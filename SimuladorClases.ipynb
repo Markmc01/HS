{
 "cells": [
  {
   "cell_type": "code",
   "execution_count": 15,
   "id": "55decb70",
   "metadata": {},
   "outputs": [],
   "source": [
    "import numpy as np\n",
    "from scipy.sparse import csr_array, kron, csr_matrix, eye_array\n",
    "from scipy.linalg import logm\n",
    "import matplotlib.pyplot as plt"
   ]
  },
  {
   "cell_type": "markdown",
   "id": "2f0a9d3b",
   "metadata": {},
   "source": [
    "## Funciones varias"
   ]
  },
  {
   "cell_type": "code",
   "execution_count": 16,
   "id": "8b5222b7",
   "metadata": {},
   "outputs": [],
   "source": [
    "dic = {\"h\": 1/np.sqrt(2)*np.matrix([[1,1],[1,-1]],dtype=np.complex128),\n",
    "        \"z\": np.matrix([[1,0],[0,-1]],dtype=np.complex128),\n",
    "        \"x\": np.matrix([[0,1],[1,0]],dtype=np.complex128),\n",
    "        \"y\": np.matrix([[0,-1j],[1j,0]],dtype=np.complex128),\n",
    "        \"cx\": np.matrix([[1,0,0,0],[0,0,0,1],[0,0,1,0],[0,1,0,0]],dtype=np.complex128),\n",
    "        \"swap\": np.matrix([[1,0,0,0],[0,0,1,0],[0,1,0,0],[0,0,0,1]],dtype=np.complex128)}\n",
    "\n",
    "def Puerta(name, giro = None, **giros):\n",
    "    \n",
    "    if name in dic.keys():\n",
    "        return dic[name]\n",
    "    \n",
    "    if name==\"rx\":\n",
    "        return np.matrix([[np.cos(giro/2),-1j*np.sin(giro/2)],[-1j*np.sin(giro/2),np.cos(giro/2)]],dtype=np.complex128)\n",
    "    if name==\"ry\":\n",
    "        return np.matrix([[np.cos(giro/2),np.sin(giro/2)],[np.sin(giro/2),np.cos(giro/2)]],dtype=np.complex128)\n",
    "    if name==\"rz\":\n",
    "        return np.matrix([[np.exp(-1j*giro/2),0],[0,np.exp(1j*giro/2)]],dtype=np.complex128)\n",
    "    if name==\"u\":\n",
    "        return np.matrix([[np.cos(giros[\"theta\"]/2),-np.exp(1j*giros[\"lambda\"])*np.sin(giros[\"theta\"]/2)],[np.exp(1j*giros[\"phi\"])*np.sin(giros[\"theta\"]/2),np.exp(1j*(giros[\"phi\"]+giros[\"lambda\"]))*np.cos(giros[\"theta\"]/2)]],dtype=np.complex128)\n",
    "    \n",
    "    raise ValueError(\"Puerta no definida\")"
   ]
  },
  {
   "cell_type": "code",
   "execution_count": 17,
   "id": "ef54bbbf",
   "metadata": {},
   "outputs": [],
   "source": [
    "def swaps(distancia):\n",
    "    qubits = (0,distancia)\n",
    "    num_qubits = qubits[1] - qubits[0] + 1\n",
    "    swap = np.eye(2**num_qubits)\n",
    "    mask1 = 1 << qubits[0]\n",
    "    #anti_mask = ((1 << num_qubits) - 1) ^ mask1\n",
    "    mask2 = 1 << qubits[1]\n",
    "\n",
    "    for i in range(2**num_qubits):\n",
    "        if (i & mask1) and ((i & mask2) == 0):\n",
    "            swap[i,i] = 0\n",
    "            swap[i-mask1+mask2,i-mask1+mask2] = 0\n",
    "            swap[i,i-mask1+mask2] = 1\n",
    "            swap[i-mask1+mask2,i] = 1\n",
    "\n",
    "    return swap"
   ]
  },
  {
   "cell_type": "code",
   "execution_count": 18,
   "id": "72f590c2",
   "metadata": {},
   "outputs": [],
   "source": [
    "def adic_registro(mas_sig,menos_sig):\n",
    "    registro = QRegistry(mas_sig.nqubits + menos_sig.nqubits)\n",
    "    registro.state = np.kron(mas_sig.ket(),menos_sig.ket())\n",
    "    return registro"
   ]
  },
  {
   "cell_type": "code",
   "execution_count": 19,
   "id": "8ff0be15",
   "metadata": {},
   "outputs": [],
   "source": [
    "def traza_parcial(matrix, qubit):\n",
    "    dim = int(np.log2(matrix.shape[0])) - 1\n",
    "    t_parcial = np.zeros([int(2**dim),int(2**dim)],dtype=matrix.dtype)\n",
    "\n",
    "    mask = 1<<qubit\n",
    "    for i in range(2**dim):\n",
    "        iaux = i//mask\n",
    "        resto = i%mask\n",
    "        iprima = iaux*2*mask + resto\n",
    "        i2prima = iprima|mask\n",
    "        for j in range(2**dim):\n",
    "            jaux = j//mask\n",
    "            resto = j%mask\n",
    "            jprima = jaux*2*mask + resto\n",
    "            j2prima = jprima|mask\n",
    "            # print(format(i, f\"0{dim}b\"),\n",
    "            #       format(iprima, f\"0{dim+1}b\"),\n",
    "            #       format(i2prima, f\"0{dim+1}b\"),\n",
    "            #       format(j, f\"0{dim}b\"),\n",
    "            #       format(jprima, f\"0{dim+1}b\"),\n",
    "            #       format(j2prima, f\"0{dim+1}b\"))\n",
    "            t_parcial[i,j] = matrix[iprima,jprima] + matrix[i2prima,j2prima]\n",
    "\n",
    "    return t_parcial"
   ]
  },
  {
   "cell_type": "code",
   "execution_count": 20,
   "id": "1d5845b5",
   "metadata": {},
   "outputs": [
    {
     "data": {
      "text/plain": [
       "array([[ 1,  2,  3,  4],\n",
       "       [ 5,  6,  7,  8],\n",
       "       [ 9, 10, 11, 12],\n",
       "       [13, 14, 15, 16]])"
      ]
     },
     "metadata": {},
     "output_type": "display_data"
    },
    {
     "data": {
      "text/plain": [
       "array([[12, 14],\n",
       "       [20, 22]])"
      ]
     },
     "execution_count": 20,
     "metadata": {},
     "output_type": "execute_result"
    }
   ],
   "source": [
    "matrix = np.array([[1,2,3,4],[5,6,7,8],[9,10,11,12],[13,14,15,16]])\n",
    "display(matrix)\n",
    "traza_parcial(matrix,1)"
   ]
  },
  {
   "cell_type": "code",
   "execution_count": 21,
   "id": "fb05e7ca",
   "metadata": {},
   "outputs": [],
   "source": [
    "def rep_canonica(state):\n",
    "    for i in range(state.size):\n",
    "        if state[i] != 0:\n",
    "            arg = np.angle(state[i])\n",
    "            canonica = np.exp(-arg*1j)*state\n",
    "            canonica[i] = canonica[i].real\n",
    "            return canonica"
   ]
  },
  {
   "cell_type": "code",
   "execution_count": 22,
   "id": "ab7cb514",
   "metadata": {},
   "outputs": [],
   "source": [
    "def coord_Bloch(state):\n",
    "    if state.size%2 != 0:\n",
    "        raise ValueError(\"Vector de estado no válido\")\n",
    "    \n",
    "    canonica = rep_canonica(state)\n",
    "\n",
    "    phi = np.angle(canonica[1])\n",
    "\n",
    "    theta = 2*np.arctan2(np.absolute(canonica[1]),canonica[0].real)\n",
    "    \n",
    "    return [theta, phi]\n",
    "\n",
    "# Algunos ejemplos sin usar QRegistry\n",
    "\n",
    "# coord_Bloch(np.array([0,1],dtype=np.complex256))\n",
    "# coord_Bloch(1j*np.array([0,1],dtype=np.complex256))\n",
    "# coord_Bloch(np.array([-0.38268343, 0.92387953],dtype=np.complex256))"
   ]
  },
  {
   "cell_type": "code",
   "execution_count": 23,
   "id": "4d57131c",
   "metadata": {},
   "outputs": [],
   "source": [
    "# Revisar\n",
    "def multi_coord_Bloch(state):\n",
    "    if state.size%2 != 0:\n",
    "        raise ValueError(\"Vector de estado no válido\")\n",
    "    \n",
    "    canonica = rep_canonica(state)\n",
    "\n",
    "    theta = []\n",
    "    phi = []\n",
    "    \n",
    "    for ind in range(int(np.log2(state.size))):\n",
    "        amp1 = 0 # Para calcular la amplitud del qubit cuando este es 1\n",
    "        mask = 1 << ind\n",
    "        for i in range(state.size):\n",
    "            if (i & mask):\n",
    "                amp1 += np.absolute(canonica[i])**2\n",
    "        amp0 = 1 - amp1\n",
    "        amp1 = np.sqrt(amp1)\n",
    "        amp0 = np.sqrt(amp0)\n",
    "        phi.append(np.angle(amp1))\n",
    "        theta.append(2*np.arctan2(amp1**2,amp0**2))\n",
    "    \n",
    "    return [theta, phi]\n",
    "\n",
    "# Algunos ejemplos sin usar QRegistry\n",
    "\n",
    "# multi_coord_Bloch(np.sqrt(2)*np.array([1/4,1/4,1/4,1/4,1/4,1/4,1/4,1/4],dtype=np.complex256))\n",
    "# multi_coord_Bloch(np.array([0,1,0,0],dtype=np.complex256))\n",
    "# multi_coord_Bloch(np.array([np.sqrt(2)/2,-np.sqrt(2)/2],dtype=np.complex256))"
   ]
  },
  {
   "cell_type": "markdown",
   "id": "b7e52dc0",
   "metadata": {},
   "source": [
    "### Multiprocessing"
   ]
  },
  {
   "cell_type": "code",
   "execution_count": 24,
   "id": "05892914",
   "metadata": {},
   "outputs": [
    {
     "name": "stdout",
     "output_type": "stream",
     "text": [
      "0.31669565600168426\n",
      "0.001377913000396802\n"
     ]
    }
   ],
   "source": [
    "from multiprocessing import Pool, cpu_count\n",
    "from timeit import timeit\n",
    "\n",
    "def suma(x):\n",
    "    return x+x\n",
    "\n",
    "def suma_paralela(arr):\n",
    "    with Pool(cpu_count()) as p:\n",
    "        return p.map(suma, arr)\n",
    "\n",
    "def suma_secuencial(arr):\n",
    "    return list(map(suma, arr))\n",
    "\n",
    "input = [i for i in range(2000)]\n",
    "\n",
    "print(timeit(lambda: suma_paralela(input),number=10))\n",
    "\n",
    "print(timeit(lambda: suma_secuencial(input),number=10))\n"
   ]
  },
  {
   "cell_type": "code",
   "execution_count": 25,
   "id": "8172e96f",
   "metadata": {},
   "outputs": [
    {
     "data": {
      "text/plain": [
       "1.0"
      ]
     },
     "execution_count": 25,
     "metadata": {},
     "output_type": "execute_result"
    }
   ],
   "source": [
    "from multiprocessing import Process, Value, cpu_count\n",
    "from ctypes import c_double\n",
    "\n",
    "def norma(arr):\n",
    "    # initialize a cross-process accumulator\n",
    "    acc = Value(c_double, 0)\n",
    "    #\n",
    "    ps = [Process(target=reductor, args=(arr, i, acc)) for i in range(cpu_count())]\n",
    "    for p in ps:\n",
    "       p.start()\n",
    "    for p in ps:\n",
    "       p.join()\n",
    "    return np.sqrt(acc.value)\n",
    "\n",
    "def reductor(arr, pid, acc):\n",
    "    aux = sum(arr[j]**2 for j in range(pid, len(arr), cpu_count()))\n",
    "    # += operation is not atomic, so we need to get a lock:\n",
    "    with acc.get_lock():\n",
    "       acc.value += aux\n",
    "    \n",
    "\n",
    "input = [np.sqrt(2)/2,np.sqrt(2)/2]\n",
    "norma(input)"
   ]
  },
  {
   "cell_type": "code",
   "execution_count": 26,
   "id": "49af635b",
   "metadata": {},
   "outputs": [
    {
     "data": {
      "text/plain": [
       "[[1], [3]]"
      ]
     },
     "execution_count": 26,
     "metadata": {},
     "output_type": "execute_result"
    }
   ],
   "source": [
    "def filacolumna(vec, matrix, result, pid, acc):\n",
    "    aux = matrix[pid] @ vec\n",
    "    # += operation is not atomic, so we need to get a lock:\n",
    "    with acc.get_lock():\n",
    "        result.append([aux[0]])\n",
    "\n",
    "M = np.array([[1,2],[3,4]])\n",
    "acc = Value(c_double, 0)\n",
    "lista = []\n",
    "for i in range(2):\n",
    "    filacolumna(np.array([[1],[0]]), M, lista, i, acc)\n",
    "lista"
   ]
  },
  {
   "cell_type": "markdown",
   "id": "fb46de3b",
   "metadata": {},
   "source": [
    "## Clase QRegistry"
   ]
  },
  {
   "cell_type": "code",
   "execution_count": 27,
   "id": "d0654562",
   "metadata": {},
   "outputs": [],
   "source": [
    "result = None\n",
    "\n",
    "class QRegistry:\n",
    "    def __init__(self,nqubits):\n",
    "        self.nqubits = nqubits\n",
    "        self.size = nqubits\n",
    "        self.estado = np.append(np.array([1],dtype=complex),np.array([0 for _ in range(2**self.nqubits - 1)],dtype=complex)).reshape(-1,1)\n",
    "\n",
    "    def ket(self):\n",
    "        return self.estado\n",
    "    \n",
    "    def bra(self):\n",
    "        return np.conjugate(np.transpose(self.estado))\n",
    "    \n",
    "    def M_densidad(self):\n",
    "        return np.dot(self.ket(),self.bra())\n",
    "    \n",
    "    def ad_registro(self,reg2,sig = False):\n",
    "        if sig:\n",
    "            return adic_registro(reg,self)\n",
    "        return adic_registro(self,reg2)\n",
    "    \n",
    "    def filacolumna(self,matrix,pid):\n",
    "        global result\n",
    "        # += operation is not atomic, so we need to get a lock:\n",
    "        for ind in range(pid,self.estado.shape[0],1):\n",
    "            result[ind,0] = (matrix.getrow(ind) @ self.ket())[0]\n",
    "            print(\"matriz\",matrix.getrow(ind))\n",
    "            print(\"ket\",self.ket())\n",
    "            print(\"matmul\",matrix.getrow(ind) @ self.ket())\n",
    "            print(\"resultado\",result[ind,0])\n",
    "        print(\"Durante\",result)\n",
    "\n",
    "    def paplicar_puerta(self, puerta, qubit):\n",
    "        num_q_Puerta = int(np.log2(puerta.shape[0]))\n",
    "\n",
    "        global result\n",
    "        result = np.empty_like(self.estado)\n",
    "\n",
    "        puerta = csr_array(puerta)\n",
    "\n",
    "        if qubit[0] < 0 or len(qubit) > self.nqubits:\n",
    "            raise ValueError(\"Qubit imposible\")\n",
    "        \n",
    "        elif num_q_Puerta > self.nqubits:\n",
    "            raise ValueError(\"La puerta no cabe\")\n",
    "        \n",
    "        cambios = None\n",
    "\n",
    "        if len(qubit) > 1:\n",
    "            posiciones = qubit + [j for j in range(self.nqubits) if j not in qubit]\n",
    "            cambios = np.argsort(posiciones)\n",
    "            # print(cambios, posiciones)\n",
    "\n",
    "            for id in range(len(qubit)):\n",
    "                target_id = np.where(cambios == id)[0][0]\n",
    "                # print(f\"SWAP({id},{target_id})\")\n",
    "                if id != target_id:\n",
    "                    self.paplicar_puerta(swaps(target_id - id),qubit=[id])\n",
    "\n",
    "        operacion = kron(kron(eye_array(2**(self.nqubits - qubit[0] - num_q_Puerta)),puerta),csr_array(np.eye(2**qubit[0])))\n",
    "\n",
    "        ps = [Process(target=self.filacolumna, args=(operacion, i)) for i in range(1)]\n",
    "\n",
    "        for p in ps:\n",
    "            p.start()\n",
    "        for p in ps:\n",
    "            p.join()\n",
    "\n",
    "        print(\"Después\",result)\n",
    "\n",
    "        self.estado = result\n",
    "\n",
    "        if cambios is not None:\n",
    "            for id in range(len(qubit)):\n",
    "                target_id = np.where(cambios == id)[0][0]\n",
    "                # print(f\"DESSWAP({id},{target_id})\")\n",
    "                if id != target_id:\n",
    "                    self.paplicar_puerta(swaps(target_id - id),qubit=[id])\n",
    "\n",
    "        return self.estado\n",
    "    \n",
    "    def aplicar_puerta(self, puerta, qubit):\n",
    "        num_q_Puerta = int(np.log2(puerta.shape[0]))\n",
    "\n",
    "        puerta = csr_array(puerta)\n",
    "\n",
    "        if qubit[0] < 0 or len(qubit) > self.nqubits:\n",
    "            raise ValueError(\"Qubit imposible\")\n",
    "        \n",
    "        elif num_q_Puerta > self.nqubits:\n",
    "            raise ValueError(\"La puerta no cabe\")\n",
    "        \n",
    "        cambios = None\n",
    "\n",
    "        if len(qubit) > 1:\n",
    "            posiciones = qubit + [j for j in range(self.nqubits) if j not in qubit]\n",
    "            cambios = np.argsort(posiciones)\n",
    "            # print(cambios, posiciones)\n",
    "\n",
    "            for id in range(len(qubit)):\n",
    "                target_id = np.where(cambios == id)[0][0]\n",
    "                # print(f\"SWAP({id},{target_id})\")\n",
    "                if id != target_id:\n",
    "                    self.aplicar_puerta(swaps(target_id - id),qubit=[id])\n",
    "\n",
    "        operacion = kron(kron(eye_array(2**(self.nqubits - qubit[0] - num_q_Puerta)),puerta),csr_array(np.eye(2**qubit[0])))\n",
    "\n",
    "        self.estado = operacion @ self.ket()\n",
    "\n",
    "        # print(cambios)\n",
    "\n",
    "        if cambios is not None:\n",
    "            for id in range(len(qubit)):\n",
    "                target_id = np.where(cambios == id)[0][0]\n",
    "                # print(f\"DESSWAP({id},{target_id})\")\n",
    "                if id != target_id:\n",
    "                    self.aplicar_puerta(swaps(target_id - id),qubit=[id])\n",
    "\n",
    "        return self.estado\n",
    "    \n",
    "    def prob(self, lista, pid, acc):\n",
    "        aux = sum(np.absolute(self.estado[j,0])**2 for j in lista[pid::cpu_count()])\n",
    "        # += operation is not atomic, so we need to get a lock:\n",
    "        with acc.get_lock():\n",
    "            acc.value += aux\n",
    "\n",
    "    \n",
    "    def pmedir(self, qubit):\n",
    "        if qubit < 0 or qubit >= self.nqubits:\n",
    "            raise ValueError(\"Qubit imposible\")\n",
    "\n",
    "        acc = Value(c_double, 0)\n",
    "        lista = [j for j in range(2**self.nqubits) if j//2**(qubit)%2]\n",
    "\n",
    "        ps = [Process(target=self.prob, args=(lista, i, acc)) for i in range(cpu_count())]\n",
    "        for p in ps:\n",
    "            p.start()\n",
    "        for p in ps:\n",
    "            p.join()\n",
    "\n",
    "        p =  acc.value\n",
    "        \n",
    "        r = np.random.rand()\n",
    "\n",
    "        if r < p:\n",
    "            #print(\"Mide 1\")\n",
    "            listadg = [j for j in range(2**self.nqubits) if j//2**(qubit)%2 == 0]\n",
    "            for i in listadg:\n",
    "                self.estado[i,0] = 0\n",
    "            self.estado = self.estado/np.sqrt(p)\n",
    "        else:\n",
    "            #print(\"Mide 0\")\n",
    "            for i in lista:\n",
    "                self.estado[i,0] = 0\n",
    "            self.estado = self.estado/np.sqrt(1-p)\n",
    "\n",
    "        return int(r < p)\n",
    "    \n",
    "    def dmedir(self, qubit):\n",
    "        if qubit < 0 or qubit >= self.nqubits:\n",
    "            raise ValueError(\"Qubit imposible\")\n",
    "        \n",
    "        lista = [j for j in range(2**self.nqubits) if j//2**(qubit)%2]\n",
    "        # print(lista)\n",
    "        r = np.random.rand()\n",
    "        p = norm_mpi([self.estado[i] for i in lista])\n",
    "\n",
    "        if r < p:\n",
    "            #print(\"Mide 1\")\n",
    "            listadg = [j for j in range(2**self.nqubits) if j//2**(qubit)%2 == 0]\n",
    "            for i in listadg:\n",
    "                self.estado[i,0] = 0\n",
    "            self.estado = self.estado/np.sqrt(p)\n",
    "        else:\n",
    "            #print(\"Mide 0\")\n",
    "            for i in lista:\n",
    "                self.estado[i,0] = 0\n",
    "            self.estado = self.estado/np.sqrt(1-p)\n",
    "\n",
    "        return int(r < p)\n",
    "    \n",
    "    def medir(self, qubit):\n",
    "        if qubit < 0 or qubit >= self.nqubits:\n",
    "            raise ValueError(\"Qubit imposible\")\n",
    "        \n",
    "        lista = [j for j in range(2**self.nqubits) if j//2**(qubit)%2]\n",
    "        # print(lista)\n",
    "        r = np.random.rand()\n",
    "        p = sum(np.absolute(self.estado[i,0])**2 for i in lista)\n",
    "\n",
    "        if r < p:\n",
    "            #print(\"Mide 1\")\n",
    "            listadg = [j for j in range(2**self.nqubits) if j//2**(qubit)%2 == 0]\n",
    "            for i in listadg:\n",
    "                self.estado[i,0] = 0\n",
    "            self.estado = self.estado/np.sqrt(p)\n",
    "        else:\n",
    "            #print(\"Mide 0\")\n",
    "            for i in lista:\n",
    "                self.estado[i,0] = 0\n",
    "            self.estado = self.estado/np.sqrt(1-p)\n",
    "\n",
    "        return int(r < p)\n",
    "    \n",
    "    def correlacion(self, qubit):\n",
    "        rho1_0 = traza_parcial(self.M_densidad(),qubit)\n",
    "        return 2*(1-(rho1_0@rho1_0).trace().real)\n",
    "        \n",
    "    def esfera_Bloch(self):\n",
    "        if self.nqubits > 1:\n",
    "            raise ValueError(\"Por ahora solo representamos 1 qubit\")\n",
    "        \n",
    "        ket = self.ket()\n",
    "\n",
    "        phi = np.linspace(0, np.pi, 30)\n",
    "        theta = np.linspace(0, 2 * np.pi, 30)\n",
    "        phi, theta = np.meshgrid(phi, theta)\n",
    "        x = np.sin(phi) * np.cos(theta)\n",
    "        y = np.sin(phi) * np.sin(theta)\n",
    "        z = np.cos(phi)\n",
    "\n",
    "        coords = coord_Bloch(ket)\n",
    "        print(coords)\n",
    "\n",
    "        fig = plt.figure()\n",
    "        ax = fig.add_subplot(111, projection='3d')\n",
    "        ax.plot_surface(x, y, z, color='Green', alpha=0.3)\n",
    "\n",
    "        # Coordenadas de la flecha\n",
    "        r = 1\n",
    "        theta = coords[0][0]\n",
    "        phi = coords[1][0] - np.pi/2\n",
    "        x_arrow = r * np.sin(theta) * np.cos(phi)\n",
    "        y_arrow = r * np.sin(theta) * np.sin(phi)\n",
    "        z_arrow = r * np.cos(theta)\n",
    "\n",
    "        # Graficamos la flecha\n",
    "        ax.quiver(0, 0, 0, x_arrow, y_arrow, z_arrow, color='Red')\n",
    "\n",
    "        # Configuraciones adicionales\n",
    "        ax.set_xlim([-1, 1])\n",
    "        ax.set_ylim([-1, 1])\n",
    "        ax.set_zlim([-1, 1])\n",
    "\n",
    "        plt.show()\n",
    "\n",
    "    def entropia(self):\n",
    "        return -np.trace(self.M_densidad()@logm(self.M_densidad())).real"
   ]
  },
  {
   "cell_type": "markdown",
   "id": "c41343ab",
   "metadata": {},
   "source": [
    "## Ejemplos de uso"
   ]
  },
  {
   "cell_type": "code",
   "execution_count": 28,
   "id": "f441385d",
   "metadata": {},
   "outputs": [
    {
     "name": "stderr",
     "output_type": "stream",
     "text": [
      "/tmp/ipykernel_1394/2607302304.py:27: DeprecationWarning: `getrow` is deprecated and will be removed in v1.14.0; use `X[[0]]` instead.\n",
      "  result[ind,0] = (matrix.getrow(ind) @ self.ket())[0]\n",
      "/tmp/ipykernel_1394/2607302304.py:27: DeprecationWarning: Conversion of an array with ndim > 0 to a scalar is deprecated, and will error in future. Ensure you extract a single element from your array before performing this operation. (Deprecated NumPy 1.25.)\n",
      "  result[ind,0] = (matrix.getrow(ind) @ self.ket())[0]\n",
      "/tmp/ipykernel_1394/2607302304.py:28: DeprecationWarning: `getrow` is deprecated and will be removed in v1.14.0; use `X[[0]]` instead.\n",
      "  print(\"matriz\",matrix.getrow(ind))\n"
     ]
    },
    {
     "name": "stdout",
     "output_type": "stream",
     "text": [
      "matriz   (0, 1)\t(0.7071067811865475+0j)\n",
      "  (0, 0)\t(0.7071067811865475+0j)\n",
      "ket [[1.+0.j]\n",
      " [0.+0.j]]\n"
     ]
    },
    {
     "name": "stderr",
     "output_type": "stream",
     "text": [
      "/tmp/ipykernel_1394/2607302304.py:30: DeprecationWarning: `getrow` is deprecated and will be removed in v1.14.0; use `X[[0]]` instead.\n",
      "  print(\"matmul\",matrix.getrow(ind) @ self.ket())\n"
     ]
    },
    {
     "name": "stdout",
     "output_type": "stream",
     "text": [
      "matmul [[0.70710678+0.j]]\n",
      "resultado (0.7071067811865475+0j)\n"
     ]
    },
    {
     "name": "stderr",
     "output_type": "stream",
     "text": [
      "/tmp/ipykernel_1394/2607302304.py:27: DeprecationWarning: `getrow` is deprecated and will be removed in v1.14.0; use `X[[1]]` instead.\n",
      "  result[ind,0] = (matrix.getrow(ind) @ self.ket())[0]\n",
      "/tmp/ipykernel_1394/2607302304.py:28: DeprecationWarning: `getrow` is deprecated and will be removed in v1.14.0; use `X[[1]]` instead.\n",
      "  print(\"matriz\",matrix.getrow(ind))\n"
     ]
    },
    {
     "name": "stdout",
     "output_type": "stream",
     "text": [
      "matriz   (0, 1)\t(-0.7071067811865475+0j)\n",
      "  (0, 0)\t(0.7071067811865475+0j)\n",
      "ket [[1.+0.j]\n",
      " [0.+0.j]]\n"
     ]
    },
    {
     "name": "stderr",
     "output_type": "stream",
     "text": [
      "/tmp/ipykernel_1394/2607302304.py:30: DeprecationWarning: `getrow` is deprecated and will be removed in v1.14.0; use `X[[1]]` instead.\n",
      "  print(\"matmul\",matrix.getrow(ind) @ self.ket())\n"
     ]
    },
    {
     "name": "stdout",
     "output_type": "stream",
     "text": [
      "matmul [[0.70710678+0.j]]\n",
      "resultado (0.7071067811865475+0j)\n",
      "Durante [[0.70710678+0.j]\n",
      " [0.70710678+0.j]]\n",
      "Después [[6.90534566e-310+0.00000000e+000j]\n",
      " [4.64502836e-310+4.64502836e-310j]]\n"
     ]
    },
    {
     "data": {
      "text/plain": [
       "array([[6.90534566e-310+0.00000000e+000j],\n",
       "       [4.64502836e-310+4.64502836e-310j]])"
      ]
     },
     "execution_count": 28,
     "metadata": {},
     "output_type": "execute_result"
    }
   ],
   "source": [
    "vec = QRegistry(1)\n",
    "\n",
    "# print(vec.estado)\n",
    "\n",
    "vec.paplicar_puerta(Puerta(\"h\"),[0])\n"
   ]
  },
  {
   "cell_type": "code",
   "execution_count": 29,
   "id": "9d42262a",
   "metadata": {},
   "outputs": [
    {
     "data": {
      "text/plain": [
       "0"
      ]
     },
     "metadata": {},
     "output_type": "display_data"
    },
    {
     "data": {
      "text/plain": [
       "0"
      ]
     },
     "execution_count": 29,
     "metadata": {},
     "output_type": "execute_result"
    }
   ],
   "source": [
    "reg = QRegistry(2)\n",
    "reg.aplicar_puerta(Puerta(\"h\"),[0])\n",
    "reg.aplicar_puerta(Puerta(\"cx\"),[0,1])\n",
    "\n",
    "display(reg.pmedir(0))\n",
    "reg.pmedir(1)"
   ]
  },
  {
   "cell_type": "code",
   "execution_count": 30,
   "id": "b30880c2",
   "metadata": {},
   "outputs": [
    {
     "name": "stdout",
     "output_type": "stream",
     "text": [
      "El estado es\n",
      " [[0.70710678+0.j]\n",
      " [0.        +0.j]\n",
      " [0.        +0.j]\n",
      " [0.70710678+0.j]]\n",
      "\n",
      "La matriz de densidad es\n",
      " [[0.5+0.j 0. +0.j 0. +0.j 0.5+0.j]\n",
      " [0. +0.j 0. +0.j 0. +0.j 0. +0.j]\n",
      " [0. +0.j 0. +0.j 0. +0.j 0. +0.j]\n",
      " [0.5+0.j 0. +0.j 0. +0.j 0.5+0.j]]\n",
      "\n",
      "Cuadrado\n",
      " [[0.5+0.j 0. +0.j 0. +0.j 0.5+0.j]\n",
      " [0. +0.j 0. +0.j 0. +0.j 0. +0.j]\n",
      " [0. +0.j 0. +0.j 0. +0.j 0. +0.j]\n",
      " [0.5+0.j 0. +0.j 0. +0.j 0.5+0.j]]\n",
      "\n",
      "Matriz de densidad reducida tomando el qubit 0\n",
      "[[0.5+0.j 0. +0.j]\n",
      " [0. +0.j 0.5+0.j]]\n",
      "\n",
      "Cuadrado\n",
      " [[0.25+0.j 0.  +0.j]\n",
      " [0.  +0.j 0.25+0.j]]\n"
     ]
    }
   ],
   "source": [
    "\n",
    "reg = QRegistry(2)\n",
    "reg.aplicar_puerta(Puerta(\"h\"),[0])\n",
    "reg.aplicar_puerta(Puerta(\"cx\"),[0,1])\n",
    "rho1 = reg.M_densidad()\n",
    "\n",
    "print(\"El estado es\\n\",reg.ket())\n",
    "print(\"\\nLa matriz de densidad es\\n\",rho1)\n",
    "\n",
    "print(\"\\nCuadrado\\n\",rho1@rho1)\n",
    "\n",
    "print(\"\\nMatriz de densidad reducida tomando el qubit 0\")\n",
    "rho1_0 = traza_parcial(rho1,0)\n",
    "print(rho1_0)\n",
    "\n",
    "print(\"\\nCuadrado\\n\",rho1_0@rho1_0)\n",
    "\n",
    "# print(\"\\nMatriz de densidad reducida tomando el qubit 1\")\n",
    "# print(\"\\n\",traza_parcial(reg.M_densidad(),1))\n",
    "\n",
    "# regmas = QRegistry(1)\n",
    "# regmas.aplicar_puerta(Puerta(\"h\"),[0])\n",
    "# print(\"\\n\",regmas.M_densidad())"
   ]
  },
  {
   "cell_type": "code",
   "execution_count": 31,
   "id": "06797b0e",
   "metadata": {},
   "outputs": [
    {
     "name": "stdout",
     "output_type": "stream",
     "text": [
      "El estado es\n",
      " [[0.70710678+0.j        ]\n",
      " [0.        +0.j        ]\n",
      " [0.        +0.j        ]\n",
      " [0.        -0.70710678j]]\n",
      "\n",
      "La matriz de densidad es\n",
      " [[0.5+0.j  0. +0.j  0. +0.j  0. +0.5j]\n",
      " [0. +0.j  0. +0.j  0. +0.j  0. +0.j ]\n",
      " [0. +0.j  0. +0.j  0. +0.j  0. +0.j ]\n",
      " [0. -0.5j 0. +0.j  0. +0.j  0.5+0.j ]]\n",
      "\n",
      "Cuadrado\n",
      " [[0.5+0.j  0. +0.j  0. +0.j  0. +0.5j]\n",
      " [0. +0.j  0. +0.j  0. +0.j  0. +0.j ]\n",
      " [0. +0.j  0. +0.j  0. +0.j  0. +0.j ]\n",
      " [0. -0.5j 0. +0.j  0. +0.j  0.5+0.j ]]\n",
      "\n",
      "Matriz de densidad reducida tomando el qubit 0\n",
      "[[0.5+0.j 0. +0.j]\n",
      " [0. +0.j 0.5+0.j]]\n",
      "\n",
      "Cuadrado\n",
      " [[0.25+0.j 0.  +0.j]\n",
      " [0.  +0.j 0.25+0.j]]\n",
      "\n",
      "Traza 0.5\n",
      "\n",
      "Matriz de densidad reducida tomando el qubit 1\n",
      "[[0.5+0.j 0. +0.j]\n",
      " [0. +0.j 0.5+0.j]]\n",
      "\n",
      "Cuadrado\n",
      " [[0.25+0.j 0.  +0.j]\n",
      " [0.  +0.j 0.25+0.j]]\n",
      "\n",
      "Traza 0.5\n",
      "\n",
      "Correlación: 1.0\n",
      "\n",
      "Correlación con método: 1.0\n"
     ]
    }
   ],
   "source": [
    "reg = QRegistry(2)\n",
    "reg.aplicar_puerta(Puerta(\"rx\",np.pi/2),[0])\n",
    "reg.aplicar_puerta(Puerta(\"cx\"),[0,1])\n",
    "rho1 = reg.M_densidad()\n",
    "\n",
    "print(\"El estado es\\n\",reg.ket())\n",
    "print(\"\\nLa matriz de densidad es\\n\",rho1)\n",
    "\n",
    "print(\"\\nCuadrado\\n\",rho1@rho1)\n",
    "\n",
    "print(\"\\nMatriz de densidad reducida tomando el qubit 0\")\n",
    "rho1_0 = traza_parcial(rho1,0)\n",
    "print(rho1_0)\n",
    "\n",
    "print(\"\\nCuadrado\\n\",rho1_0@rho1_0)\n",
    "print(\"\\nTraza\",(rho1_0@rho1_0).trace().real)\n",
    "\n",
    "print(\"\\nMatriz de densidad reducida tomando el qubit 1\")\n",
    "rho1_1 = traza_parcial(rho1,1)\n",
    "print(rho1_1)\n",
    "\n",
    "print(\"\\nCuadrado\\n\",rho1_1@rho1_1)\n",
    "print(\"\\nTraza\",(rho1_1@rho1_1).trace().real)\n",
    "\n",
    "print(\"\\nCorrelación:\",2*(1-(rho1_1@rho1_1).trace().real))\n",
    "\n",
    "print(\"\\nCorrelación con método:\",reg.correlacion(0))"
   ]
  },
  {
   "cell_type": "code",
   "execution_count": 32,
   "id": "6b138434",
   "metadata": {},
   "outputs": [
    {
     "name": "stdout",
     "output_type": "stream",
     "text": [
      "\n",
      "Correlación con método: 0.24999999999999956\n",
      "\n",
      "Correlación con método: 0.24999999999999956\n",
      "\n",
      "Correlación con método: -4.440892098500626e-16\n"
     ]
    }
   ],
   "source": [
    "reg = QRegistry(3)\n",
    "reg.aplicar_puerta(Puerta(\"rx\",np.pi/6),[0])\n",
    "reg.aplicar_puerta(Puerta(\"cx\"),[0,2])\n",
    "\n",
    "print(\"\\nCorrelación con método:\",reg.correlacion(0))\n",
    "print(\"\\nCorrelación con método:\",reg.correlacion(2))\n",
    "print(\"\\nCorrelación con método:\",reg.correlacion(1))"
   ]
  },
  {
   "cell_type": "code",
   "execution_count": 33,
   "id": "b058d3c8",
   "metadata": {},
   "outputs": [
    {
     "data": {
      "text/plain": [
       "array([[0.5+0.j, 0. +0.j, 0.5+0.j, 0. +0.j, 0. +0.j, 0. +0.j, 0. +0.j,\n",
       "        0. +0.j],\n",
       "       [0. +0.j, 0. +0.j, 0. +0.j, 0. +0.j, 0. +0.j, 0. +0.j, 0. +0.j,\n",
       "        0. +0.j],\n",
       "       [0.5+0.j, 0. +0.j, 0.5+0.j, 0. +0.j, 0. +0.j, 0. +0.j, 0. +0.j,\n",
       "        0. +0.j],\n",
       "       [0. +0.j, 0. +0.j, 0. +0.j, 0. +0.j, 0. +0.j, 0. +0.j, 0. +0.j,\n",
       "        0. +0.j],\n",
       "       [0. +0.j, 0. +0.j, 0. +0.j, 0. +0.j, 0. +0.j, 0. +0.j, 0. +0.j,\n",
       "        0. +0.j],\n",
       "       [0. +0.j, 0. +0.j, 0. +0.j, 0. +0.j, 0. +0.j, 0. +0.j, 0. +0.j,\n",
       "        0. +0.j],\n",
       "       [0. +0.j, 0. +0.j, 0. +0.j, 0. +0.j, 0. +0.j, 0. +0.j, 0. +0.j,\n",
       "        0. +0.j],\n",
       "       [0. +0.j, 0. +0.j, 0. +0.j, 0. +0.j, 0. +0.j, 0. +0.j, 0. +0.j,\n",
       "        0. +0.j]])"
      ]
     },
     "metadata": {},
     "output_type": "display_data"
    },
    {
     "data": {
      "text/plain": [
       "array([[1.+0.j, 0.+0.j, 0.+0.j, 0.+0.j],\n",
       "       [0.+0.j, 0.+0.j, 0.+0.j, 0.+0.j],\n",
       "       [0.+0.j, 0.+0.j, 0.+0.j, 0.+0.j],\n",
       "       [0.+0.j, 0.+0.j, 0.+0.j, 0.+0.j]])"
      ]
     },
     "execution_count": 33,
     "metadata": {},
     "output_type": "execute_result"
    }
   ],
   "source": [
    "reg = QRegistry(3)\n",
    "reg.aplicar_puerta(Puerta(\"h\"),[1])\n",
    "\n",
    "display(reg.M_densidad())\n",
    "\n",
    "traza_parcial(reg.M_densidad(),1)"
   ]
  },
  {
   "cell_type": "code",
   "execution_count": 34,
   "id": "be182e8c",
   "metadata": {},
   "outputs": [
    {
     "name": "stdout",
     "output_type": "stream",
     "text": [
      "0.6931471805599453\n"
     ]
    }
   ],
   "source": [
    "reg0 = QRegistry(1)\n",
    "reg1 = QRegistry(1)\n",
    "\n",
    "reg1.aplicar_puerta(Puerta(\"x\"),[0])\n",
    "\n",
    "mezcla = 0.5*reg0.M_densidad() + 0.5*reg1.M_densidad()\n",
    "\n",
    "entropia = -np.trace(mezcla@logm(mezcla)).real\n",
    "print(entropia)"
   ]
  },
  {
   "cell_type": "code",
   "execution_count": 35,
   "id": "79494724",
   "metadata": {},
   "outputs": [
    {
     "name": "stdout",
     "output_type": "stream",
     "text": [
      "5.684341886080802e-14\n"
     ]
    },
    {
     "name": "stderr",
     "output_type": "stream",
     "text": [
      "/home/codespace/.local/lib/python3.10/site-packages/scipy/linalg/_matfuncs.py:203: LogmExactlySingularWarning: The logm input matrix is exactly singular.\n",
      "  F = scipy.linalg._matfuncs_inv_ssq._logm(A)\n"
     ]
    }
   ],
   "source": [
    "registro = QRegistry(2)\n",
    "\n",
    "registro.aplicar_puerta(Puerta(\"h\"),[0])\n",
    "registro.aplicar_puerta(Puerta(\"cx\"),[0,1])\n",
    "\n",
    "print(registro.entropia())"
   ]
  },
  {
   "cell_type": "code",
   "execution_count": 36,
   "id": "4e573b2e",
   "metadata": {},
   "outputs": [
    {
     "data": {
      "text/plain": [
       "array([[1.+0.j, 0.+0.j, 0.+0.j, 0.+0.j],\n",
       "       [0.+0.j, 0.+0.j, 0.+0.j, 0.+0.j],\n",
       "       [0.+0.j, 0.+0.j, 0.+0.j, 0.+0.j],\n",
       "       [0.+0.j, 0.+0.j, 0.+0.j, 0.+0.j]])"
      ]
     },
     "execution_count": 36,
     "metadata": {},
     "output_type": "execute_result"
    }
   ],
   "source": [
    "reg = QRegistry(3)\n",
    "reg.aplicar_puerta(Puerta(\"h\"),[1])\n",
    "\n",
    "traza_parcial(reg.M_densidad(),1)"
   ]
  },
  {
   "cell_type": "code",
   "execution_count": 37,
   "id": "e775bdb1",
   "metadata": {},
   "outputs": [
    {
     "name": "stdout",
     "output_type": "stream",
     "text": [
      "[array([1.57079633]), array([3.14159265])]\n"
     ]
    },
    {
     "data": {
      "image/png": "[encoded data removed]",
      "text/plain": [
       "<Figure size 640x480 with 1 Axes>"
      ]
     },
     "metadata": {},
     "output_type": "display_data"
    }
   ],
   "source": [
    "registro = QRegistry(1)\n",
    "registro.aplicar_puerta(Puerta(\"x\"),qubit=[0])\n",
    "registro.aplicar_puerta(Puerta(\"h\"),qubit=[0])\n",
    "\n",
    "registro.esfera_Bloch()"
   ]
  },
  {
   "cell_type": "code",
   "execution_count": 38,
   "id": "2748773a",
   "metadata": {},
   "outputs": [
    {
     "data": {
      "text/plain": [
       "array([[0.70710678+0.j],\n",
       "       [0.        +0.j],\n",
       "       [0.70710678+0.j],\n",
       "       [0.        +0.j],\n",
       "       [0.        +0.j],\n",
       "       [0.        +0.j],\n",
       "       [0.        +0.j],\n",
       "       [0.        +0.j]])"
      ]
     },
     "execution_count": 38,
     "metadata": {},
     "output_type": "execute_result"
    }
   ],
   "source": [
    "reg1 = QRegistry(2)\n",
    "reg2 = QRegistry(1)\n",
    "\n",
    "reg1.aplicar_puerta(Puerta(\"h\"),[0])\n",
    "\n",
    "reg = reg1.ad_registro(reg2)\n",
    "reg.state"
   ]
  },
  {
   "cell_type": "code",
   "execution_count": 39,
   "id": "e8d3d6a1",
   "metadata": {},
   "outputs": [
    {
     "data": {
      "text/plain": [
       "5.684341886080802e-14"
      ]
     },
     "execution_count": 39,
     "metadata": {},
     "output_type": "execute_result"
    }
   ],
   "source": [
    "registro = QRegistry(2)\n",
    "registro.aplicar_puerta(Puerta(\"h\"),[0])\n",
    "registro.M_densidad()\n",
    "\n",
    "registro.entropia()"
   ]
  },
  {
   "cell_type": "code",
   "execution_count": 40,
   "id": "7e31df0c",
   "metadata": {},
   "outputs": [
    {
     "data": {
      "text/plain": [
       "array([[0.70710678+0.j],\n",
       "       [0.        +0.j],\n",
       "       [0.        +0.j],\n",
       "       [0.70710678+0.j]])"
      ]
     },
     "metadata": {},
     "output_type": "display_data"
    },
    {
     "name": "stdout",
     "output_type": "stream",
     "text": [
      "1\n",
      "1\n"
     ]
    }
   ],
   "source": [
    "cx = Puerta(\"cx\")\n",
    "H = Puerta(\"h\")\n",
    "\n",
    "par_epr = QRegistry(2)\n",
    "par_epr.aplicar_puerta(H,[0])\n",
    "# display(par_epr.ket())\n",
    "\n",
    "par_epr.aplicar_puerta(cx,[0,1])\n",
    "\n",
    "display(par_epr.ket())\n",
    "\n",
    "print(par_epr.medir(0))\n",
    "\n",
    "print(par_epr.medir(1))"
   ]
  },
  {
   "cell_type": "code",
   "execution_count": 41,
   "id": "ce37c308",
   "metadata": {},
   "outputs": [
    {
     "data": {
      "text/plain": [
       "array([[0.5+0.j],\n",
       "       [0. +0.j],\n",
       "       [0.5+0.j],\n",
       "       [0. +0.j],\n",
       "       [0.5+0.j],\n",
       "       [0. +0.j],\n",
       "       [0.5+0.j],\n",
       "       [0. +0.j]])"
      ]
     },
     "execution_count": 41,
     "metadata": {},
     "output_type": "execute_result"
    }
   ],
   "source": [
    "registro = QRegistry(3)\n",
    "registro.aplicar_puerta(np.kron(Puerta(\"h\"),Puerta(\"h\")),[1])\n",
    "registro.ket()"
   ]
  },
  {
   "cell_type": "code",
   "execution_count": 42,
   "metadata": {},
   "outputs": [
    {
     "data": {
      "text/plain": [
       "array([[1.+0.j],\n",
       "       [0.+0.j],\n",
       "       [0.+0.j],\n",
       "       [0.+0.j],\n",
       "       [0.+0.j],\n",
       "       [0.+0.j],\n",
       "       [0.+0.j],\n",
       "       [0.+0.j]], dtype=complex256)"
      ]
     },
     "execution_count": 42,
     "metadata": {},
     "output_type": "execute_result"
    }
   ],
   "source": [
    "registro = QRegistry(3)\n",
    "hadamard = 1/np.sqrt(2)*np.array([[1,1],[1,-1]],dtype=np.float128)\n",
    "registro.aplicar_puerta(hadamard,[0])\n",
    "registro.aplicar_puerta(hadamard,[1])\n",
    "registro.aplicar_puerta(hadamard,[2])\n",
    "registro.aplicar_puerta(hadamard,[0])\n",
    "registro.aplicar_puerta(hadamard,[1])\n",
    "registro.aplicar_puerta(hadamard,[2])"
   ]
  },
  {
   "cell_type": "code",
   "execution_count": 43,
   "id": "bb950d25",
   "metadata": {},
   "outputs": [
    {
     "data": {
      "text/plain": [
       "0"
      ]
     },
     "execution_count": 43,
     "metadata": {},
     "output_type": "execute_result"
    }
   ],
   "source": [
    "registro = QRegistry(3)\n",
    "registro.medir(1)"
   ]
  },
  {
   "cell_type": "code",
   "execution_count": 44,
   "id": "566b8f3b",
   "metadata": {},
   "outputs": [
    {
     "data": {
      "text/plain": [
       "array([[1.+0.j],\n",
       "       [0.+0.j],\n",
       "       [0.+0.j],\n",
       "       [0.+0.j]])"
      ]
     },
     "execution_count": 44,
     "metadata": {},
     "output_type": "execute_result"
    }
   ],
   "source": [
    "ket0 = QRegistry(2)\n",
    "ket0.ket()"
   ]
  },
  {
   "cell_type": "code",
   "execution_count": 45,
   "id": "c3de0dd0",
   "metadata": {},
   "outputs": [
    {
     "data": {
      "text/plain": [
       "array([[1.-0.j, 0.-0.j, 0.-0.j, 0.-0.j]])"
      ]
     },
     "execution_count": 45,
     "metadata": {},
     "output_type": "execute_result"
    }
   ],
   "source": [
    "ket0.bra()"
   ]
  },
  {
   "cell_type": "code",
   "execution_count": 46,
   "id": "8e57758e",
   "metadata": {},
   "outputs": [
    {
     "data": {
      "text/plain": [
       "array([[1.+0.j, 0.+0.j, 0.+0.j, 0.+0.j],\n",
       "       [0.+0.j, 0.+0.j, 0.+0.j, 0.+0.j],\n",
       "       [0.+0.j, 0.+0.j, 0.+0.j, 0.+0.j],\n",
       "       [0.+0.j, 0.+0.j, 0.+0.j, 0.+0.j]])"
      ]
     },
     "execution_count": 46,
     "metadata": {},
     "output_type": "execute_result"
    }
   ],
   "source": [
    "ket0.M_densidad()"
   ]
  },
  {
   "cell_type": "code",
   "execution_count": 47,
   "id": "c6bfdce4",
   "metadata": {},
   "outputs": [
    {
     "data": {
      "text/plain": [
       "array([[0.70710678+0.j],\n",
       "       [0.        +0.j],\n",
       "       [0.70710678+0.j],\n",
       "       [0.        +0.j]], dtype=complex256)"
      ]
     },
     "execution_count": 47,
     "metadata": {},
     "output_type": "execute_result"
    }
   ],
   "source": [
    "ket0.aplicar_puerta(hadamard,qubit=[1])"
   ]
  },
  {
   "cell_type": "code",
   "execution_count": 48,
   "id": "9a97b69c",
   "metadata": {},
   "outputs": [
    {
     "data": {
      "text/plain": [
       "0"
      ]
     },
     "execution_count": 48,
     "metadata": {},
     "output_type": "execute_result"
    }
   ],
   "source": [
    "ket0.medir(1)"
   ]
  },
  {
   "cell_type": "code",
   "execution_count": 49,
   "id": "c24a1547",
   "metadata": {},
   "outputs": [
    {
     "data": {
      "text/plain": [
       "array([[1.+0.j],\n",
       "       [0.+0.j],\n",
       "       [0.+0.j],\n",
       "       [0.+0.j]], dtype=complex256)"
      ]
     },
     "execution_count": 49,
     "metadata": {},
     "output_type": "execute_result"
    }
   ],
   "source": [
    "ket0.ket()"
   ]
  },
  {
   "cell_type": "code",
   "execution_count": 50,
   "id": "254d18d2",
   "metadata": {},
   "outputs": [
    {
     "data": {
      "text/plain": [
       "array([[0.70710678+0.j],\n",
       "       [0.70710678+0.j],\n",
       "       [0.        +0.j],\n",
       "       [0.        +0.j],\n",
       "       [0.        +0.j],\n",
       "       [0.        +0.j],\n",
       "       [0.        +0.j],\n",
       "       [0.        +0.j]], dtype=complex256)"
      ]
     },
     "execution_count": 50,
     "metadata": {},
     "output_type": "execute_result"
    }
   ],
   "source": [
    "registro = QRegistry(3)\n",
    "registro.aplicar_puerta(hadamard,[0,1,2])\n",
    "registro.ket()"
   ]
  },
  {
   "cell_type": "markdown",
   "id": "8b27b8bf",
   "metadata": {},
   "source": [
    "# Coste temporal"
   ]
  },
  {
   "cell_type": "code",
   "execution_count": 51,
   "id": "320f121e",
   "metadata": {},
   "outputs": [],
   "source": [
    "'''\n",
    "n = distancia\n",
    "t(n) = 2 + 2 + 3 + 2^{2(n + 1)} + n + 1 + 1 + 3 + n + 2 + n + 1 + \n",
    " + 2^{n+1}*(1 + 5 + {3 + 7 + 5 + 5, 0})\n",
    "\n",
    "t(n) = 15 + 2^{2(n + 1)} + 3*n + 2^{n+1}*({26, 6})\n",
    "\n",
    "O =  2^{2n}\n",
    "w =  2^{2n}\n",
    "theta = 2^{2n}\n",
    "'''\n",
    "def swaps(distancia):\n",
    "    qubits = (0,distancia) # Coste 2 (asignacion + creacion)\n",
    "    # n = distancia + 1\n",
    "    num_qubits = qubits[1] - qubits[0] + 1 # Coste 2xO(1) + 3 (acceso a lista + operaciones + asignacion)\n",
    "    swap = np.eye(2**num_qubits) # Coste 2^{2(distancia + 1)} + distancia + 1 + 1 (potencia y asignacion)\n",
    "    mask1 = 1 << qubits[0] # Coste 1 (solo el desplazamiento) + 2 (asignacion + acceso)\n",
    "    #anti_mask = ((1 << num_qubits) - 1) ^ mask1\n",
    "    mask2 = 1 << qubits[1] # Coste distancia + 2\n",
    "\n",
    "    for i in range(2**num_qubits): # Coste distancia + 1 + 1*iteracion\n",
    "        if (i & mask1) and ((i & mask2) == 0): # Coste 5\n",
    "            swap[i,i] = 0 # Coste 3\n",
    "            swap[i-mask1+mask2,i-mask1+mask2] = 0 # Coste 7\n",
    "            swap[i,i-mask1+mask2] = 1 # Coste 5\n",
    "            swap[i-mask1+mask2,i] = 1 # Coste 5\n",
    "\n",
    "    return swap"
   ]
  },
  {
   "cell_type": "code",
   "execution_count": 52,
   "id": "898bf646",
   "metadata": {},
   "outputs": [],
   "source": [
    "'''\n",
    "n = num_qubits\n",
    "t(n) = 4 + (1 + (n + 1) + (8 + qubit)*2^{n}) + θ(1) + (2 + (7 + 2*θ(1))*2^{n-1}) + \n",
    "     + (2 + {1 + (n + 1) + (8 + qubit)*2^{n}, 1} + (5)*2^{n-1} + θ(1) + 1 + 2^{n}) + 3 = \n",
    "     = 13 + 2*θ(1) + n + (9 + qubit)*2^{n} + (12 + 2*θ(1))*2^{n-1} + {(n + 1) + (8 + qubit)*2^{n} , 0}\n",
    "\n",
    "t(n) = O(2^{n}) # En el peor de los casos qubit = n - 1 => O(n) = n*2^{n}\n",
    "t(n) = w(2^{n})\n",
    "t(n) = θ(2^{n})\n",
    "'''\n",
    "\n",
    "def medir(self, qubit):\n",
    "        if qubit < 0 or qubit >= self.nqubits: # 4 (asumimos que nunca entra dentro)\n",
    "            raise ValueError(\"Qubit imposible\")\n",
    "        \n",
    "        # lista = [] # 1\n",
    "        # for j in range(2**self.nqubits): # (n + 1) + 2*2^{n}\n",
    "        #   if j//2**(qubit)%2: # 1 + qubit + 2 + 2\n",
    "        #       lista.append(j) # 1\n",
    "        lista = [j for j in range(2**self.nqubits) if j//2**(qubit)%2]\n",
    "        # len(lista) = len(listadg) = 2^{n-1}\n",
    "        r = np.random.rand()    # O(1)\n",
    "                                # w(1)\n",
    "                                # θ(1)\n",
    "\n",
    "        # p = 0 # 2 (interpretar como la llamada a la función sum?)\n",
    "        # for i in lista: # (1 + θ(1))*iteracion = (1 + θ(1))*2^{n-1}\n",
    "        #   p = p + np.absolute(self.estado[i,0])**2 # asignacion + potencia + suma + abs + acceso = 1 + 2 + 1 + θ(1) + 2 \n",
    "        p = sum(np.absolute(self.estado[i,0])**2 for i in lista)\n",
    "\n",
    "        if r < p: # 2\n",
    "            #print(\"Mide 1\")\n",
    "            # lista = [] # 1\n",
    "            # for j in range(2**self.nqubits): # (n + 1) + 2*2^{n}\n",
    "            #   if j//2**(qubit)%2 == 0: # 1 + qubit + 2 + 2 + 1\n",
    "            #       lista.append(j) # 1\n",
    "            listadg = [j for j in range(2**self.nqubits) if j//2**(qubit)%2 == 0]\n",
    "\n",
    "            for i in listadg: # 2*2^{n-1}\n",
    "                self.estado[i,0] = 0 # 3\n",
    "            self.estado = self.estado/np.sqrt(p) # θ(1) + 1 + 2^{n}\n",
    "        else: # 1\n",
    "            #print(\"Mide 0\")\n",
    "            for i in lista: # 2*2^{n-1}\n",
    "                self.estado[i,0] = 0 # 3\n",
    "            self.estado = self.estado/np.sqrt(1-p) # θ(1) + 1 + 2^{n}\n",
    "\n",
    "        return int(r < p) # 3"
   ]
  },
  {
   "cell_type": "code",
   "execution_count": 53,
   "id": "2158418e",
   "metadata": {},
   "outputs": [],
   "source": [
    "'''\n",
    "n = self.nqubits\n",
    "t(n) = \n",
    "\n",
    "t(n) = O()\n",
    "t(n) = w()\n",
    "t(n) = θ()\n",
    "'''\n",
    "\n",
    "def aplicar_puerta(self, puerta, qubit):\n",
    "        num_q_Puerta = int(np.log2(puerta.shape[0])) # 1 + 1 + O(1)\n",
    "\n",
    "        if qubit[0] < 0 or len(qubit) > self.nqubits: # 1 + 5 # No entramos\n",
    "            raise ValueError(\"Qubit imposible\")\n",
    "        \n",
    "        elif num_q_Puerta > self.nqubits: # 1 + 1 # No entramos\n",
    "            raise ValueError(\"La puerta no cabe\")\n",
    "        \n",
    "        cambios = None # 1\n",
    "\n",
    "        if len(qubit) > 1: # 1 + 2\n",
    "            \n",
    "            # posiciones  = qubit           # 1\n",
    "            # for j in range(n):            # 2*it = 2*n\n",
    "            #   if j not in qubit:          # 4\n",
    "            #       posiciones.append(j)    # 1\n",
    "            posiciones = qubit + [j for j in range(self.nqubits) if j not in qubit]     # 1 + 7*n\n",
    "            cambios = np.argsort(posiciones)                                            # O(nlogn)\n",
    "            \n",
    "            # ids = [posiciones[i] for i in cambios]\n",
    "            # print(cambios, posiciones)\n",
    "\n",
    "            for id in range(len(qubit)):                                        # 2*it = 2*len(qubit)\n",
    "                target_id = np.where(cambios == id)[0,0]                        # 1 + 2 + O(where)\n",
    "                # print(f\"SWAP({id},{target_id})\")                              \n",
    "                if id != target_id:                                             # 2\n",
    "                    self.aplicar_puerta(swaps(target_id - id),qubit=[id])       # ...\n",
    "\n",
    "        # 3 + n - qubit[0] - num_q_Puerta + 2^{2*(n - qubit[0] - num_q_Puerta)}\n",
    "        operacion = np.kron(np.kron(np.eye(2**(self.nqubits - qubit[0] - num_q_Puerta)),puerta),np.eye(2**qubit[0]))\n",
    "\n",
    "        self.estado = np.dot(operacion,self.ket())\n",
    "\n",
    "        print(cambios)\n",
    "\n",
    "        if cambios is not None:\n",
    "            for id in range(len(qubit)):\n",
    "                target_id = np.where(cambios == id)[0][0]\n",
    "                print(f\"DESSWAP({id},{target_id})\")\n",
    "                if id != target_id:\n",
    "                    self.aplicar_puerta(swaps(target_id - id),qubit=[id])\n",
    "\n",
    "        return self.estado"
   ]
  },
  {
   "cell_type": "markdown",
   "id": "10bdfcc8",
   "metadata": {},
   "source": [
    "# Coste espacial"
   ]
  },
  {
   "cell_type": "code",
   "execution_count": 54,
   "id": "e84c0dc5",
   "metadata": {},
   "outputs": [],
   "source": [
    "'''\n",
    "n = self.nqubits\n",
    "Unidad = 32 bits\n",
    "(Una variable que almacena un valor simple ocupa 1 espacio de memoria)\n",
    "\n",
    "Memoria para calcular la medida (en el pico):\n",
    "\n",
    "p(n) = 6 + 2^{n-1} + {2^{n-1}, 0} + 4*2^{n}\n",
    "\n",
    "p(n) = O(2^{n})\n",
    "p(n) = w(2^{n})\n",
    "p(n) = θ(2^{n})\n",
    "\n",
    "'''\n",
    "\n",
    "def medir(self, qubit):\n",
    "        # self -> 1\n",
    "        # qubit -> 1\n",
    "        if qubit < 0 or qubit >= self.nqubits:\n",
    "            raise ValueError(\"Qubit imposible\")\n",
    "        \n",
    "        # lista -> 2^{n-1}\n",
    "        # j -> 1\n",
    "        lista = [j for j in range(2**self.nqubits) if j//2**(qubit)%2]\n",
    "        # j -> 0 (tras liberar memoria)\n",
    "        # r -> 2 + coste(rand) = 2 + θ(1)\n",
    "        r = np.random.rand()\n",
    "\n",
    "\n",
    "        # p -> 1 + 2*2^{n-1} + 2 + θ(1)\n",
    "        # p = sum([np.absolute(self.estado[i,0])**2 for i in lista])\n",
    "        # p -> 1 + 2 + θ(1) (tras liberar memoria)\n",
    "        # p -> 1 + 2 + θ(1)\n",
    "        p = sum(np.absolute(self.estado[i,0])**2 for i in lista)\n",
    "\n",
    "        if r < p:\n",
    "            #print(\"Mide 1\")\n",
    "            del lista\n",
    "            # lista -> 0 (tras liberar espacio)\n",
    "            # lista -> 2^{n-1}\n",
    "            lista = [j for j in range(2**self.nqubits) if j//2**(qubit)%2 == 0]\n",
    "\n",
    "            # i -> 1\n",
    "            for i in lista:\n",
    "                self.estado[i,0] = 0\n",
    "            # i -> 0 (tras liberar memoria)\n",
    "            # lista -> 0 (tras liberar espacio)\n",
    "            del lista\n",
    "            # division -> 4*2^{n}\n",
    "            self.estado = self.estado/np.sqrt(p)\n",
    "            # division -> 0 (tras liberar memoria)\n",
    "        else:\n",
    "            #print(\"Mide 0\")\n",
    "            # i -> 1\n",
    "            for i in lista:\n",
    "                self.estado[i,0] = 0\n",
    "            # i -> 0 (tras liberar memoria)\n",
    "            # lista -> 0 (tras liberar espacio)\n",
    "            del lista\n",
    "            # division -> 4*2^{n}\n",
    "            self.estado = self.estado/np.sqrt(1-p)\n",
    "            # division -> 0 (tras liberar memoria)\n",
    "\n",
    "        return int(r < p)"
   ]
  },
  {
   "cell_type": "code",
   "execution_count": 55,
   "id": "6e5ef56e",
   "metadata": {},
   "outputs": [],
   "source": [
    "'''\n",
    "n = self.nqubits\n",
    "V2 de medir\n",
    "Unidad = 32 bits\n",
    "(Una variable que almacena un valor simple ocupa 1 espacio de memoria)\n",
    "\n",
    "Memoria para calcular la medida (en el pico):\n",
    "\n",
    "p(n) = 6 + 2^{n-1} + {2^{n-1}, 0} + 4*2^{n}\n",
    "\n",
    "p(n) = O(2^{n})\n",
    "p(n) = w(2^{n})\n",
    "p(n) = θ(2^{n})\n",
    "\n",
    "'''\n",
    "\n",
    "def medir(self, qubit):\n",
    "        # self -> 1\n",
    "        # qubit -> 1\n",
    "        if qubit < 0 or qubit >= self.nqubits:\n",
    "            raise ValueError(\"Qubit imposible\")\n",
    "        \n",
    "        p = 0\n",
    "        for id in range(1 << self.nqubits):\n",
    "             if (id // (1 << qubit)) % 2:\n",
    "                  p += np.absolute(self.elemento[id,0])**2\n",
    "\n",
    "        r = np.random.rand()\n",
    "\n",
    "        if r >= p:\n",
    "            #print(\"Mide 0\")\n",
    "            p = 1 - p\n",
    "        \n",
    "        for id in range(1 << self.nqubits):\n",
    "            if (id // (1 << qubit)) % 2:    # 1 en qubit\n",
    "                if r <= p:  # Mide 1\n",
    "                    self.estado[id] = self.estado[id]/np.sqrt(p)\n",
    "                else:       # Mide 0\n",
    "                    self.estado[id] = 0\n",
    "            else:                           # 0 en qubit\n",
    "                if r <= p:  # Mide 1\n",
    "                    self.estado[id] = 0\n",
    "                else:       # Mide 0\n",
    "                    self.estado[id] = self.estado[id]/np.sqrt(p)\n",
    "\n",
    "        return int(r < p)"
   ]
  },
  {
   "cell_type": "code",
   "execution_count": 56,
   "id": "47e05220",
   "metadata": {},
   "outputs": [],
   "source": [
    "'''\n",
    "n = self.nqubits\n",
    "Unidad = 32 bits\n",
    "(Una variable que almacena un valor simple ocupa 1 espacio de memoria)\n",
    "\n",
    "Memoria para calcular la medida (en el pico):\n",
    "\n",
    "p(n) = ... 4*2^{n}\n",
    "\n",
    "p(n) = O(2^{n})\n",
    "p(n) = w(2^{n})\n",
    "p(n) = θ(2^{n})\n",
    "\n",
    "'''\n",
    "\n",
    "def aplicar_puerta(self, puerta, qubit):\n",
    "        num_q_Puerta = int(np.log2(puerta.shape[0]))        # 1\n",
    "\n",
    "        if qubit[0] < 0 or len(qubit) > self.nqubits:\n",
    "            raise ValueError(\"Qubit imposible\")\n",
    "        \n",
    "        elif num_q_Puerta > self.nqubits:\n",
    "            raise ValueError(\"La puerta no cabe\")\n",
    "        \n",
    "        cambios = None                                      # 1\n",
    "\n",
    "        if len(qubit) > 1:\n",
    "            posiciones = qubit + [j for j in range(self.nqubits) if j not in qubit]\n",
    "            cambios = np.argsort(posiciones)\n",
    "            # print(cambios, posiciones)\n",
    "\n",
    "            for id in range(len(qubit)):\n",
    "                target_id = np.where(cambios == id)[0,0]\n",
    "                print(f\"SWAP({id},{target_id})\")\n",
    "                if id != target_id:\n",
    "                    self.aplicar_puerta(swaps(target_id - id),qubit=[id])\n",
    "\n",
    "        # 4*2^{n}\n",
    "        operacion = np.kron(np.kron(np.eye(2**(self.nqubits - qubit[0] - num_q_Puerta)),puerta),np.eye(2**qubit[0]))\n",
    "\n",
    "        self.estado = np.dot(operacion,self.ket())\n",
    "\n",
    "        print(cambios)\n",
    "\n",
    "        if cambios is not None:\n",
    "            for id in range(len(qubit)):\n",
    "                target_id = np.where(cambios == id)[0][0]\n",
    "                # print(f\"DESSWAP({id},{target_id})\")\n",
    "                if id != target_id:\n",
    "                    self.aplicar_puerta(swaps(target_id - id),qubit=[id])\n",
    "\n",
    "        return self.estado"
   ]
  }
 ],
 "metadata": {
  "kernelspec": {
   "display_name": "Python 3 (ipykernel)",
   "language": "python",
   "name": "python3"
  },
  "language_info": {
   "codemirror_mode": {
    "name": "ipython",
    "version": 3
   },
   "file_extension": ".py",
   "mimetype": "text/x-python",
   "name": "python",
   "nbconvert_exporter": "python",
   "pygments_lexer": "ipython3",
   "version": "3.10.13"
  }
 },
 "nbformat": 4,
 "nbformat_minor": 5
}
